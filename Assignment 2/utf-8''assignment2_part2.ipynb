{
 "cells": [
  {
   "cell_type": "markdown",
   "metadata": {
    "deletable": false,
    "editable": false,
    "nbgrader": {
     "checksum": "5141b7f437e34470d67e15dae9076cc5",
     "grade": false,
     "grade_id": "cell-a839e7b47494b4c3",
     "locked": true,
     "schema_version": 1,
     "solution": false
    },
    "submit": "submit"
   },
   "source": [
    "# Assignment 2 - Part 2\n",
    "For this assignment you'll be looking at 2017 data on immunizations from the CDC. Your datafile for this assignment is in [assets/NISPUF17.csv](assets/NISPUF17.csv). A data users guide for this, which you'll need to map the variables in the data to the questions being asked, is available at [assets/NIS-PUF17-DUG.pdf](assets/NIS-PUF17-DUG.pdf). **Note: you may have to go to your Jupyter tree (click on the Coursera image) and navigate to the assignment 2 assets folder to see this PDF file).**"
   ]
  },
  {
   "cell_type": "markdown",
   "metadata": {
    "deletable": false,
    "editable": false,
    "nbgrader": {
     "checksum": "4bb2ff4019a4b688d80f6cf08c915f61",
     "grade": false,
     "grade_id": "cell-f63377f3c97aa7c4",
     "locked": true,
     "schema_version": 1,
     "solution": false
    }
   },
   "source": [
    "## Question 2\n",
    "It would be interesting to see if there is any evidence of a link between vaccine effectiveness and sex of the child. Calculate the ratio of the number of children who contracted chickenpox but were vaccinated against it (at least one varicella dose) versus those who were vaccinated but did not contract chicken pox. Return results by sex. \n",
    "\n",
    "*This function should return a dictionary in the form of (use the correct numbers):* \n",
    "```\n",
    "    {\"male\":0.2,\n",
    "    \"female\":0.4}\n",
    "```\n",
    "\n",
    "Note: To aid in verification, the `chickenpox_by_sex()['female']` value the autograder is looking for starts with the digits `0.00779`."
   ]
  },
  {
   "cell_type": "code",
   "execution_count": 1,
   "metadata": {
    "deletable": false,
    "nbgrader": {
     "checksum": "b4d1b58acae002bc73eb0b19f95bc4af",
     "grade": false,
     "grade_id": "cell-a0a9e6fe67698006",
     "locked": false,
     "schema_version": 1,
     "solution": true
    }
   },
   "outputs": [
    {
     "data": {
      "text/plain": [
       "{'male': 0.009675583380762664, 'female': 0.0077918259335489565}"
      ]
     },
     "execution_count": 1,
     "metadata": {},
     "output_type": "execute_result"
    }
   ],
   "source": [
    "def chickenpox_by_sex():\n",
    "    # YOUR CODE HERE\n",
    "    import pandas as pd\n",
    "    df = pd.read_csv(\"assets/NISPUF17.csv\", index_col = 0)\n",
    "    #P_NUMVRC - total number of varicella doses, look for 1 or greater\n",
    "    #HAD_CPOX - value will be 1 if they did have it\n",
    "    #SEX - male 1 or female 2\n",
    "    #males = df[df['P_NUMVRC'].gt(0) & df['HAD_CPOX'].eq(1) & df['SEX'].eq(1)]\n",
    "    #females = df[df['P_NUMVRC'].gt(0) & df['HAD_CPOX'].eq(1) & df['SEX'].eq(2)]\n",
    "\n",
    "    yesChickenPox = df[df['P_NUMVRC'].gt(0) & df['HAD_CPOX'].eq(1)]\n",
    "    noChickenPox = df[df['P_NUMVRC'].gt(0) & df['HAD_CPOX'].eq(2)]\n",
    "\n",
    "    malesYes = yesChickenPox[yesChickenPox['SEX'].eq(1)]\n",
    "    malesNo = noChickenPox[noChickenPox['SEX'].eq(1)]\n",
    "    femalesYes = yesChickenPox[yesChickenPox['SEX'].eq(2)]\n",
    "    femalesNo = noChickenPox[noChickenPox['SEX'].eq(2)]\n",
    "\n",
    "    results = {}\n",
    "    results['male'] = len(malesYes)/len(malesNo)\n",
    "    results['female'] = len(femalesYes)/len(femalesNo)\n",
    "\n",
    "    return results    \n",
    "    \n",
    "    #raise NotImplementedError()\n",
    "chickenpox_by_sex()"
   ]
  },
  {
   "cell_type": "code",
   "execution_count": 2,
   "metadata": {
    "deletable": false,
    "editable": false,
    "nbgrader": {
     "checksum": "1b6a113a633c55699ae478a3a9ee9c33",
     "grade": true,
     "grade_id": "cell-c4f1714db100c865",
     "locked": true,
     "points": 1,
     "schema_version": 1,
     "solution": false
    }
   },
   "outputs": [],
   "source": [
    "assert len(chickenpox_by_sex())==2, \"Return a dictionary with two items, the first for males and the second for females.\"\n"
   ]
  },
  {
   "cell_type": "code",
   "execution_count": null,
   "metadata": {},
   "outputs": [],
   "source": []
  }
 ],
 "metadata": {
  "anaconda-cloud": {},
  "hide_code_all_hidden": false,
  "kernelspec": {
   "display_name": "Python 3",
   "language": "python",
   "name": "python3"
  },
  "language_info": {
   "codemirror_mode": {
    "name": "ipython",
    "version": 3
   },
   "file_extension": ".py",
   "mimetype": "text/x-python",
   "name": "python",
   "nbconvert_exporter": "python",
   "pygments_lexer": "ipython3",
   "version": "3.7.3"
  },
  "michigan": {
   "schema_names": [
    "mads_data_manipulation_v2_assignment2_part2"
   ]
  }
 },
 "nbformat": 4,
 "nbformat_minor": 1
}
