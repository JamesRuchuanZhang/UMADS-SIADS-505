{
 "cells": [
  {
   "cell_type": "markdown",
   "metadata": {
    "deletable": false,
    "editable": false,
    "nbgrader": {
     "checksum": "302223f5ed554aa4d056b7b0578e005b",
     "grade": false,
     "grade_id": "cell-018440ed2f1b6a62",
     "locked": true,
     "schema_version": 1,
     "solution": false
    }
   },
   "source": [
    "# Assignment 3\n",
    "All questions are weighted the same in this assignment. This assignment requires more individual learning then the last one did - you are encouraged to check out the [pandas documentation](http://pandas.pydata.org/pandas-docs/stable/) to find functions or methods you might not have used yet, or ask questions on [Stack Overflow](http://stackoverflow.com/) and tag them as pandas and python related. All questions are worth the same number of points except question 1 which is worth 23% of the assignment grade.\n",
    "\n",
    "**Note**: Questions 2-12 rely on your question 1c answer."
   ]
  },
  {
   "cell_type": "code",
   "execution_count": 3,
   "metadata": {
    "deletable": false,
    "editable": false,
    "nbgrader": {
     "checksum": "af2e28ea37d73a373a93fcfaab14faad",
     "grade": false,
     "grade_id": "cell-a029e98a3ac63805",
     "locked": true,
     "schema_version": 1,
     "solution": false
    }
   },
   "outputs": [],
   "source": [
    "import re\n",
    "import pandas as pd\n",
    "import numpy as np\n",
    "\n",
    "# Filter all warnings. If you would like to see the warnings, please comment the two lines below.\n",
    "import warnings\n",
    "warnings.filterwarnings('ignore')"
   ]
  },
  {
   "cell_type": "markdown",
   "metadata": {
    "deletable": false,
    "editable": false,
    "nbgrader": {
     "checksum": "01d235b2d80a971a5a86cd6226600379",
     "grade": false,
     "grade_id": "cell-7e5190c7ff1f2e42",
     "locked": true,
     "schema_version": 1,
     "solution": false
    }
   },
   "source": [
    "### Question 1(a)\n",
    "\n",
    "Complete the function `load_data` below to load three datasets that we will use in subsequent questions. Be sure to follow the instructions below for each dataset *respectively*. \n",
    "\n",
    "\n",
    "\n",
    "**Energy**\n",
    "\n",
    "Load the energy data from the file `assets/Energy Indicators.xls`, which is a list of indicators of [energy supply and renewable electricity production](assets/Energy%20Indicators.xls) from the [United Nations](http://unstats.un.org/unsd/environment/excel_file_tables/2013/Energy%20Indicators.xls) for the year 2013, and should be put into a DataFrame with the variable name of `energy`.\n",
    "\n",
    "Keep in mind that this is an Excel file, and not a comma separated values file. Also, make sure to exclude the footer and header information from the datafile. The first two columns are unneccessary, so you should get rid of them, and you should change the column labels so that the columns are:\n",
    "\n",
    "`['Country', 'Energy Supply', 'Energy Supply per Capita', '% Renewable]`\n",
    "\n",
    "Convert `Energy Supply` to gigajoules (**Note: there are 1,000,000 gigajoules in a petajoule**). For all countries which have missing data (e.g. data with \"...\") make sure this is reflected as `np.NaN` values.\n",
    "\n",
    "Rename the following list of countries (for use in later questions):\n",
    "\n",
    "```\"Republic of Korea\": \"South Korea\",\n",
    "\"United States of America\": \"United States\",\n",
    "\"United Kingdom of Great Britain and Northern Ireland\": \"United Kingdom\",\n",
    "\"China, Hong Kong Special Administrative Region\": \"Hong Kong\"```\n",
    "\n",
    "There are also several countries with parenthesis in their name. Be sure to remove these, e.g. `'Bolivia (Plurinational State of)'` should be `'Bolivia'`.\n",
    "\n",
    "\n",
    "\n",
    "**GDP**\n",
    "\n",
    "Next, load the GDP data from the file `assets/world_bank.csv`, which is a csv containing countries' GDP from 1960 to 2015 from [World Bank](http://data.worldbank.org/indicator/NY.GDP.MKTP.CD). Call this DataFrame `gdp`. \n",
    "\n",
    "Make sure to skip the header, and rename the following list of countries:\n",
    "\n",
    "```\"Korea, Rep.\": \"South Korea\", \n",
    "\"Iran, Islamic Rep.\": \"Iran\",\n",
    "\"Hong Kong SAR, China\": \"Hong Kong\"```\n",
    "\n",
    "\n",
    "\n",
    "**ScimEn**\n",
    "\n",
    "Finally, load the [Sciamgo Journal and Country Rank data for Energy Engineering and Power Technology](http://www.scimagojr.com/countryrank.php?category=2102) from the file `assets/scimagojr-3.xlsx`, which ranks countries based on their journal contributions in the aforementioned area. Call this DataFrame `scim_en`.\n",
    "\n",
    "**For all three datasets, use country names as the index.**"
   ]
  },
  {
   "cell_type": "code",
   "execution_count": 4,
   "metadata": {
    "deletable": false,
    "nbgrader": {
     "checksum": "235a509ba6795e6bb23273c38faaaa67",
     "grade": false,
     "grade_id": "cell-85d6b39df17aa02f",
     "locked": false,
     "schema_version": 1,
     "solution": true
    },
    "scrolled": false
   },
   "outputs": [
    {
     "name": "stdout",
     "output_type": "stream",
     "text": [
      "Country\n",
      "Afghanistan                  3.210000e+08\n",
      "Albania                      1.020000e+08\n",
      "Algeria                      1.959000e+09\n",
      "American Samoa                        NaN\n",
      "Andorra                      9.000000e+06\n",
      "                                 ...     \n",
      "Viet Nam                     2.554000e+09\n",
      "Wallis and Futuna Islands    0.000000e+00\n",
      "Yemen                        3.440000e+08\n",
      "Zambia                       4.000000e+08\n",
      "Zimbabwe                     4.800000e+08\n",
      "Name: Energy Supply, Length: 227, dtype: float64\n"
     ]
    }
   ],
   "source": [
    "def check_parenthesis(string):\n",
    "    if \"(\" in string:\n",
    "        newList = string.split(\"(\")[:-1]\n",
    "        newString = \"\"\n",
    "        return newString.join(newList).rstrip()\n",
    "    if string[-2:-1].isdigit():\n",
    "            return string[:-2]\n",
    "    if string[-1].isdigit():\n",
    "            return string[:-1]\n",
    "    else:\n",
    "        return string\n",
    "\n",
    "def convert_numbers(x):\n",
    "    if x != '...':\n",
    "        return x * 1000000\n",
    "    else:\n",
    "        return np.nan\n",
    "    \n",
    "    # YOUR CODE HERE\n",
    "    #raise NotImplementedError()\n",
    "\n",
    "def load_data():\n",
    "    # Competency: reading files in Pandas, df manipulation, regex\n",
    "    \n",
    "    # The three variables are initialized to None. You will fill them with the correct values. \n",
    "    energy, gdp, scim_en = [None] * 3\n",
    "\n",
    "    \n",
    "    # YOUR CODE HERE\n",
    "    #raise NotImplementedError()\n",
    "    energy = pd.read_excel('assets/Energy Indicators.xls')\n",
    "    energy = energy[17:244]\n",
    "    energy.drop(energy.columns[[0,1]], axis = 1, inplace=True)\n",
    "    energy.rename(columns = {'Unnamed: 2': 'Country',\n",
    "                                'Unnamed: 3': 'Energy Supply',\n",
    "                                'Unnamed: 4': 'Energy Supply per Capita',\n",
    "                                'Unnamed: 5': '% Renewable'}, inplace=True)\n",
    "    energy['Country'] = energy['Country'].apply(lambda x: check_parenthesis(x))\n",
    "    energy['Energy Supply'] = energy['Energy Supply'].apply(lambda x: convert_numbers(x))\n",
    "    energy.set_index('Country', inplace=True)\n",
    "    energy.rename({\"Republic of Korea\": \"South Korea\",\n",
    "                        \"United States of America\": \"United States\",\n",
    "                        \"United Kingdom of Great Britain and Northern Ireland\": \"United Kingdom\",\n",
    "                        \"China, Hong Kong Special Administrative Region\": \"Hong Kong\"}, axis = 'index', inplace=True)\n",
    "\n",
    "\n",
    "    gdp = pd.read_csv('assets/world_bank.csv')\n",
    "    new_header = gdp.iloc[3]\n",
    "    gdp = gdp[4:]\n",
    "    gdp.columns = new_header\n",
    "    gdp.reset_index(inplace=True, drop=True)\n",
    "    gdp.set_index('Country Name', inplace=True, drop=True)\n",
    "    gdp.rename({\"Korea, Rep.\": \"South Korea\", \n",
    "                    \"Iran, Islamic Rep.\": \"Iran\",\n",
    "                    \"Hong Kong SAR, China\": \"Hong Kong\"}, axis = 'index', inplace=True)\n",
    "    gdp.columns = gdp.columns.astype(str)\n",
    "    gdp.rename(columns ={'2006.0':'2006', '2007.0':'2007', '2008.0':'2008',\n",
    "        '2009.0':'2009', '2010.0':'2010', '2011.0':'2011', '2012.0':'2012', '2013.0':'2013', '2014.0':'2014', '2015.0':'2015'},\n",
    "    inplace=True)\n",
    "    \n",
    "\n",
    "\n",
    "    scim_en = pd.read_excel('assets/scimagojr-3.xlsx')\n",
    "    scim_en.set_index('Country', inplace=True)    \n",
    "    return energy, gdp, scim_en\n",
    "\n",
    "energy, gdp, scim_en = load_data()\n",
    "print(energy['Energy Supply'])"
   ]
  },
  {
   "cell_type": "code",
   "execution_count": 84,
   "metadata": {
    "deletable": false,
    "editable": false,
    "nbgrader": {
     "checksum": "a992b43cb653cc675985e08781233940",
     "grade": true,
     "grade_id": "cell-ece042ccd621104a",
     "locked": true,
     "points": 13,
     "schema_version": 1,
     "solution": false
    }
   },
   "outputs": [],
   "source": [
    "# Cell for autograder.\n"
   ]
  },
  {
   "cell_type": "markdown",
   "metadata": {
    "deletable": false,
    "editable": false,
    "nbgrader": {
     "checksum": "13aefc04477149e949f0e66c164fe27f",
     "grade": false,
     "grade_id": "cell-babe0ff2a1fc6b17",
     "locked": true,
     "schema_version": 1,
     "solution": false
    }
   },
   "source": [
    "### Question 1(b)\n",
    "\n",
    "Now suppose we take the intersection of the three datasets based on the country names, how many *unique* entries will we lose? Complete the function below that returns the answer as a single number. The Venn diagram in the next cell is worth a thousand words. \n",
    "\n",
    "*This function should return a single (whole) number.*"
   ]
  },
  {
   "cell_type": "code",
   "execution_count": 1,
   "metadata": {
    "deletable": false,
    "editable": false,
    "nbgrader": {
     "checksum": "c9a34da81c80126fd23ae2eac33f98f8",
     "grade": false,
     "grade_id": "cell-96f84e7b693bef63",
     "locked": true,
     "schema_version": 1,
     "solution": false
    }
   },
   "outputs": [
    {
     "data": {
      "text/html": [
       "<svg width=\"800\" height=\"300\">\n",
       "  <circle cx=\"150\" cy=\"180\" r=\"80\" fill-opacity=\"0.2\" stroke=\"black\" stroke-width=\"2\" fill=\"blue\" />\n",
       "  <circle cx=\"200\" cy=\"100\" r=\"80\" fill-opacity=\"0.2\" stroke=\"black\" stroke-width=\"2\" fill=\"red\" />\n",
       "  <circle cx=\"100\" cy=\"100\" r=\"80\" fill-opacity=\"0.2\" stroke=\"black\" stroke-width=\"2\" fill=\"green\" />\n",
       "  <line x1=\"150\" y1=\"125\" x2=\"300\" y2=\"150\" stroke=\"black\" stroke-width=\"2\" fill=\"black\" stroke-dasharray=\"5,3\"/>\n",
       "  <text x=\"300\" y=\"165\" font-family=\"Verdana\" font-size=\"35\">Everything but this!</text>\n",
       "</svg>\n"
      ],
      "text/plain": [
       "<IPython.core.display.HTML object>"
      ]
     },
     "metadata": {},
     "output_type": "display_data"
    }
   ],
   "source": [
    "%%HTML\n",
    "<svg width=\"800\" height=\"300\">\n",
    "  <circle cx=\"150\" cy=\"180\" r=\"80\" fill-opacity=\"0.2\" stroke=\"black\" stroke-width=\"2\" fill=\"blue\" />\n",
    "  <circle cx=\"200\" cy=\"100\" r=\"80\" fill-opacity=\"0.2\" stroke=\"black\" stroke-width=\"2\" fill=\"red\" />\n",
    "  <circle cx=\"100\" cy=\"100\" r=\"80\" fill-opacity=\"0.2\" stroke=\"black\" stroke-width=\"2\" fill=\"green\" />\n",
    "  <line x1=\"150\" y1=\"125\" x2=\"300\" y2=\"150\" stroke=\"black\" stroke-width=\"2\" fill=\"black\" stroke-dasharray=\"5,3\"/>\n",
    "  <text x=\"300\" y=\"165\" font-family=\"Verdana\" font-size=\"35\">Everything but this!</text>\n",
    "</svg>"
   ]
  },
  {
   "cell_type": "code",
   "execution_count": 168,
   "metadata": {
    "deletable": false,
    "nbgrader": {
     "checksum": "6fcbb7a7b94b9f1a1bd069595d1cbdef",
     "grade": false,
     "grade_id": "cell-b0c3202c000aada4",
     "locked": false,
     "schema_version": 1,
     "solution": true
    }
   },
   "outputs": [
    {
     "name": "stdout",
     "output_type": "stream",
     "text": [
      "162\n"
     ]
    }
   ],
   "source": [
    "energy, gdp, scim_en = load_data()\n",
    "twoFrames = pd.merge(energy, scim_en, how='inner', left_index=True, right_index=True)\n",
    "threeFrames = pd.merge(twoFrames, gdp, how='inner', left_index=True, right_index=True)\n",
    "first = int((len(energy) - len(threeFrames)))\n",
    "second = int(len(gdp) - len(threeFrames))\n",
    "third = int(len(scim_en) - len(threeFrames))\n",
    "#testPD = pd.merge(energy, threeFrames, how = 'left', left_index=True, right_index=True)\n",
    "\n",
    "print(len(threeFrames))\n",
    "#print(len(testPD))\n",
    "\n",
    "\n",
    "\n",
    "def answer_1b():\n",
    "    # Competency: joining datasets, sets\n",
    "    \n",
    "    # YOUR CODE HERE\n",
    "    #raise NotImplementedError()\n",
    "    energy, gdp, scim_en = load_data()\n",
    "    twoFrames = pd.merge(energy, scim_en, how='outer', left_index=True, right_index=True)\n",
    "    threeFrames = pd.merge(twoFrames, gdp, how='outer', left_index=True, right_index=True)\n",
    "    first = int((len(energy) - len(threeFrames)))\n",
    "    second = int(len(gdp) - len(threeFrames))\n",
    "    third = int(len(scim_en) - len(threeFrames))\n",
    "    \n",
    "    return len(threeFrames)-162\n",
    "    \n",
    "    "
   ]
  },
  {
   "cell_type": "code",
   "execution_count": null,
   "metadata": {
    "deletable": false,
    "editable": false,
    "nbgrader": {
     "checksum": "0379f5de7f3cb42332245d87bb02de6e",
     "grade": true,
     "grade_id": "cell-c97ee66ccdccb430",
     "locked": true,
     "points": 5,
     "schema_version": 1,
     "solution": false
    }
   },
   "outputs": [],
   "source": [
    "# Cell for autograder.\n"
   ]
  },
  {
   "cell_type": "markdown",
   "metadata": {
    "deletable": false,
    "editable": false,
    "nbgrader": {
     "checksum": "cb5ed9de733cc73c3e80dab91fda9827",
     "grade": false,
     "grade_id": "cell-89d80693491a3d33",
     "locked": true,
     "schema_version": 1,
     "solution": false
    }
   },
   "source": [
    "### Question 1(c)\n",
    "\n",
    "Join the three datasets to form a new dataset, using the intersection of country names. Keep only the last 10 years (2006-2015) of GDP data and only the top 15 countries by Scimagojr 'Rank' (Rank 1 through 15). \n",
    "\n",
    "The index of the resultant DataFrame should still be the name of the country, and the columns should be \n",
    "\n",
    "```['Rank', 'Documents', 'Citable documents', 'Citations', 'Self-citations',\n",
    "    'Citations per document', 'H index', 'Energy Supply',\n",
    "    'Energy Supply per Capita', '% Renewable', '2006', '2007', '2008',\n",
    "    '2009', '2010', '2011', '2012', '2013', '2014', '2015']```.\n",
    "\n",
    "*This function should return a DataFrame with 20 columns and 15 entries.*"
   ]
  },
  {
   "cell_type": "code",
   "execution_count": 5,
   "metadata": {
    "deletable": false,
    "nbgrader": {
     "checksum": "bd3ea9a6dbc44f951fc1cf8a99086281",
     "grade": false,
     "grade_id": "cell-bce4d6f2ecdd1297",
     "locked": false,
     "schema_version": 1,
     "solution": true
    }
   },
   "outputs": [],
   "source": [
    "#print(pd.merge(energy, gdp, how = 'outer', left_index=True, right_index=True).head())\n",
    "energy, gdp, scim_en = load_data()\n",
    "twoFrames = pd.merge(energy, scim_en, how='outer', left_index=True, right_index=True)\n",
    "threeFrames = pd.merge(twoFrames, gdp, how='outer', left_index=True, right_index=True)\n",
    "resultData = threeFrames[['Rank', 'Documents', 'Citable documents', 'Citations', 'Self-citations',\n",
    "    'Citations per document', 'H index', 'Energy Supply',\n",
    "    'Energy Supply per Capita', '% Renewable', '2006', '2007', '2008',\n",
    "    '2009', '2010', '2011', '2012', '2013', '2014', '2015']]\n",
    "resultData.index.set_names('Country', inplace=True)\n",
    "\n",
    "resultData.sort_values('Rank', inplace=True)\n",
    "resultData = resultData[0:15]\n",
    "#print(resultData['Self-citations'])\n",
    "\n",
    "def answer_1c():\n",
    "    # Competency: df manipulation, joining datasets\n",
    "    \n",
    "    #return resultData\n",
    "    energy, gdp, scim_en = load_data()\n",
    "    twoFrames = pd.merge(energy, scim_en, how='outer', left_index=True, right_index=True)\n",
    "    #print(len(twoFrames))\n",
    "    threeFrames = pd.merge(twoFrames, gdp, how='outer', left_index=True, right_index=True)\n",
    "    #print(len(threeFrames))\n",
    "    resultData = threeFrames[['Rank', 'Documents', 'Citable documents', 'Citations', 'Self-citations',\n",
    "        'Citations per document', 'H index', 'Energy Supply',\n",
    "        'Energy Supply per Capita', '% Renewable', '2006', '2007', '2008',\n",
    "        '2009', '2010', '2011', '2012', '2013', '2014', '2015']]\n",
    "    resultData.index.set_names('Country', inplace=True)\n",
    "    resultData.sort_values('Rank', inplace=True)\n",
    "    resultData = resultData[0:15]\n",
    "    return resultData\n",
    "    \n",
    "    # YOUR CODE HERE\n",
    "    #raise NotImplementedError()\n",
    "    "
   ]
  },
  {
   "cell_type": "code",
   "execution_count": 13,
   "metadata": {
    "deletable": false,
    "editable": false,
    "nbgrader": {
     "checksum": "dd29102d4d0ae9c48ef5bb2244a41c48",
     "grade": false,
     "grade_id": "cell-05d71142b33e030f",
     "locked": true,
     "schema_version": 1,
     "solution": false
    }
   },
   "outputs": [],
   "source": [
    "your_ans = answer_1c()\n",
    "\n",
    "assert isinstance(your_ans, pd.DataFrame), \"Q1c: Your function should return a DataFrame.\"\n",
    "\n",
    "assert your_ans.shape == (15, 20), \"Q1c: Your resultant DataFrame should have 20 columns and 15 entries.\"\n",
    "\n",
    "assert list(your_ans.columns) == ['Rank', 'Documents', 'Citable documents', 'Citations', 'Self-citations',\n",
    "                                 'Citations per document', 'H index', 'Energy Supply','Energy Supply per Capita', '% Renewable', \n",
    "                                 '2006', '2007', '2008','2009', '2010', '2011', '2012', '2013', '2014', '2015'] , \"Q1c: The column names should be as specified in the question. \"\n",
    "del your_ans"
   ]
  },
  {
   "cell_type": "code",
   "execution_count": null,
   "metadata": {
    "deletable": false,
    "editable": false,
    "nbgrader": {
     "checksum": "6fcf266c211b7a6ee1648cf01708e55d",
     "grade": true,
     "grade_id": "cell-780b5a4da845dbc3",
     "locked": true,
     "points": 5,
     "schema_version": 1,
     "solution": false
    }
   },
   "outputs": [],
   "source": [
    "# Cell for autograder.\n"
   ]
  },
  {
   "cell_type": "markdown",
   "metadata": {
    "deletable": false,
    "editable": false,
    "nbgrader": {
     "checksum": "97b1447d5ddcf8cc408fce98b0ad2583",
     "grade": false,
     "grade_id": "cell-d089e6c2d9dbaa29",
     "locked": true,
     "schema_version": 1,
     "solution": false
    }
   },
   "source": [
    "**Note: all subsequent questions rely on the DataFrame returned by your function in Question 1(c) above.**"
   ]
  },
  {
   "cell_type": "markdown",
   "metadata": {
    "deletable": false,
    "editable": false,
    "nbgrader": {
     "checksum": "00569f704ee0648898ec1e8c1e608111",
     "grade": false,
     "grade_id": "cell-2e54816014e48c18",
     "locked": true,
     "schema_version": 1,
     "solution": false
    }
   },
   "source": [
    "### Question 2\n",
    "What is the average GDP over the last 10 years for each country?\n",
    "\n",
    "*This function should return a Series named `avgGDP` with 15 countries and their average GDP sorted in descending order.*"
   ]
  },
  {
   "cell_type": "code",
   "execution_count": 71,
   "metadata": {
    "deletable": false,
    "nbgrader": {
     "checksum": "c8c81393decebcdf753c154b71e355eb",
     "grade": false,
     "grade_id": "cell-8c3d74335c0d489a",
     "locked": false,
     "schema_version": 1,
     "solution": true
    }
   },
   "outputs": [
    {
     "name": "stdout",
     "output_type": "stream",
     "text": [
      "Country\n",
      "United States         1.536434e+13\n",
      "China                 6.348609e+12\n",
      "Japan                 5.542208e+12\n",
      "Germany               3.493025e+12\n",
      "France                2.681725e+12\n",
      "United Kingdom        2.487907e+12\n",
      "Brazil                2.189794e+12\n",
      "Italy                 2.120175e+12\n",
      "India                 1.769297e+12\n",
      "Canada                1.660647e+12\n",
      "Russian Federation    1.565459e+12\n",
      "Spain                 1.418078e+12\n",
      "Australia             1.164043e+12\n",
      "South Korea           1.106715e+12\n",
      "Iran                  4.441558e+11\n",
      "dtype: float64\n"
     ]
    }
   ],
   "source": [
    "\n",
    "testdf = resultData[['2006', '2007', '2008','2009', '2010', '2011', '2012', '2013', '2014', '2015']]\n",
    "avgGDP = testdf.mean(axis=1)\n",
    "avgGDP.sort_values(ascending=False, inplace=True)\n",
    "print(avgGDP)\n",
    "\n",
    "def answer_two():\n",
    "    # Competency: indexing, math fn, sorting\n",
    "    \n",
    "    #df['avgGDP'] = \n",
    "    # YOUR CODE HERE\n",
    "    testdf = resultData[['2006', '2007', '2008','2009', '2010', '2011', '2012', '2013', '2014', '2015']]\n",
    "    avgGDP = testdf.mean(axis=1)\n",
    "    avgGDP.sort_values(ascending=False, inplace=True)\n",
    "    avgGDP.rename('avgGDP', inplace=True)\n",
    "    return avgGDP\n",
    "    #raise NotImplementedError()"
   ]
  },
  {
   "cell_type": "code",
   "execution_count": 9,
   "metadata": {
    "deletable": false,
    "editable": false,
    "nbgrader": {
     "checksum": "58c90164c238bfc4eca807cebf34d290",
     "grade": false,
     "grade_id": "cell-77189c68d6a7b389",
     "locked": true,
     "schema_version": 1,
     "solution": false
    }
   },
   "outputs": [],
   "source": [
    "your_ans = answer_two()\n",
    "\n",
    "assert isinstance(your_ans, pd.Series), \"Q2: You should return a Series. \"\n",
    "assert your_ans.name == \"avgGDP\", \"Q2: Your Series should have the correct name. \"\n",
    "\n",
    "del your_ans"
   ]
  },
  {
   "cell_type": "code",
   "execution_count": null,
   "metadata": {
    "deletable": false,
    "editable": false,
    "nbgrader": {
     "checksum": "80e179880e64442200c8312c5f0cbe18",
     "grade": true,
     "grade_id": "cell-aaaa11ef7d26f4cf",
     "locked": true,
     "points": 7,
     "schema_version": 1,
     "solution": false
    }
   },
   "outputs": [],
   "source": [
    "# Cell for autograder.\n"
   ]
  },
  {
   "cell_type": "markdown",
   "metadata": {
    "deletable": false,
    "editable": false,
    "nbgrader": {
     "checksum": "afeb8e3d18b154d58afd28bbbf0a5da2",
     "grade": false,
     "grade_id": "cell-34f1a306e4578b06",
     "locked": true,
     "schema_version": 1,
     "solution": false
    }
   },
   "source": [
    "### Question 3\n",
    "\n",
    "By how much had the GDP changed over the 10 year span for the country with the 6th largest average GDP?\n",
    "\n",
    "*This function should return a single number.*"
   ]
  },
  {
   "cell_type": "code",
   "execution_count": 102,
   "metadata": {
    "deletable": false,
    "nbgrader": {
     "checksum": "d58b225fdb258693695d0d89ed671676",
     "grade": false,
     "grade_id": "cell-7f77d099e3e0bbee",
     "locked": false,
     "schema_version": 1,
     "solution": true
    }
   },
   "outputs": [],
   "source": [
    "def answer_three():\n",
    "    # Competency: indexing, broadcasting\n",
    "    start = resultData['2006'].loc['United Kingdom']\n",
    "    end = resultData['2015'].loc['United Kingdom']\n",
    "    \n",
    "    return end - start\n",
    "    # YOUR CODE HERE\n",
    "    raise NotImplementedError()"
   ]
  },
  {
   "cell_type": "code",
   "execution_count": null,
   "metadata": {
    "deletable": false,
    "editable": false,
    "nbgrader": {
     "checksum": "6cd0c9e8a723a1882b416688a4415a69",
     "grade": true,
     "grade_id": "cell-564dd8e5e24b0f83",
     "locked": true,
     "points": 7,
     "schema_version": 1,
     "solution": false
    }
   },
   "outputs": [],
   "source": [
    "# Cell for autograder.\n"
   ]
  },
  {
   "cell_type": "markdown",
   "metadata": {
    "deletable": false,
    "editable": false,
    "nbgrader": {
     "checksum": "3071a0a210e0d2c7d939b7a84150295b",
     "grade": false,
     "grade_id": "cell-617669111e38ca15",
     "locked": true,
     "schema_version": 1,
     "solution": false
    }
   },
   "source": [
    "### Question 4\n",
    "\n",
    "What is the mean energy supply per capita?\n",
    "\n",
    "*This function should return a single number.*"
   ]
  },
  {
   "cell_type": "code",
   "execution_count": 103,
   "metadata": {
    "deletable": false,
    "nbgrader": {
     "checksum": "4bc6b266bc23264a50f19242454f0f05",
     "grade": false,
     "grade_id": "cell-58e79d558e982eef",
     "locked": false,
     "schema_version": 1,
     "solution": true
    }
   },
   "outputs": [],
   "source": [
    "def answer_four():\n",
    "    # Competency: math fn\n",
    "    #Energy Supply per Capita\n",
    "    \n",
    "    return resultData[\"Energy Supply per Capita\"].mean()\n",
    "    \n",
    "    # YOUR CODE HERE\n",
    "    #raise NotImplementedError()"
   ]
  },
  {
   "cell_type": "code",
   "execution_count": null,
   "metadata": {
    "deletable": false,
    "editable": false,
    "nbgrader": {
     "checksum": "8b85b97205c3fb6888a463b0601ee26d",
     "grade": true,
     "grade_id": "cell-30cc66180851638c",
     "locked": true,
     "points": 7,
     "schema_version": 1,
     "solution": false
    }
   },
   "outputs": [],
   "source": [
    "# Cell for autograder.\n"
   ]
  },
  {
   "cell_type": "markdown",
   "metadata": {
    "deletable": false,
    "editable": false,
    "nbgrader": {
     "checksum": "312e177f73407a2f7ff7e91507159b55",
     "grade": false,
     "grade_id": "cell-5c11ddd12fd71b3f",
     "locked": true,
     "schema_version": 1,
     "solution": false
    }
   },
   "source": [
    "### Question 5\n",
    "\n",
    "What country has the maximum % Renewable and what is the percentage?\n",
    "\n",
    "*This function should return a tuple with the name of the country and the percentage.*"
   ]
  },
  {
   "cell_type": "code",
   "execution_count": 115,
   "metadata": {
    "deletable": false,
    "nbgrader": {
     "checksum": "4240e53bd6aef78e0665e63b2a5114b9",
     "grade": false,
     "grade_id": "cell-b6824b78e74619f9",
     "locked": false,
     "schema_version": 1,
     "solution": true
    }
   },
   "outputs": [
    {
     "name": "stdout",
     "output_type": "stream",
     "text": [
      "<bound method NDFrame.first_valid_index of                     Rank  Documents  Citable documents  Citations  \\\n",
      "Country                                                             \n",
      "Brazil              15.0     8668.0             8596.0    60702.0   \n",
      "Canada               6.0    17899.0            17620.0   215003.0   \n",
      "Spain               12.0     9428.0             9330.0   123336.0   \n",
      "Italy               11.0    10964.0            10794.0   111850.0   \n",
      "China                1.0   127050.0           126767.0   597237.0   \n",
      "Germany              7.0    17027.0            16831.0   140566.0   \n",
      "Russian Federation   5.0    18534.0            18301.0    34266.0   \n",
      "France               9.0    13153.0            12973.0   130632.0   \n",
      "India                8.0    15005.0            14841.0   128763.0   \n",
      "Australia           14.0     8831.0             8725.0    90765.0   \n",
      "United States        2.0    96661.0            94747.0   792274.0   \n",
      "United Kingdom       4.0    20944.0            20357.0   206091.0   \n",
      "Japan                3.0    30504.0            30287.0   223024.0   \n",
      "Iran                13.0     8896.0             8819.0    57470.0   \n",
      "South Korea         10.0    11983.0            11923.0   114675.0   \n",
      "\n",
      "                    Self-citations  Citations per document  H index  \\\n",
      "Country                                                               \n",
      "Brazil                     14396.0                    7.00     86.0   \n",
      "Canada                     40930.0                   12.01    149.0   \n",
      "Spain                      23964.0                   13.08    115.0   \n",
      "Italy                      26661.0                   10.20    106.0   \n",
      "China                     411683.0                    4.70    138.0   \n",
      "Germany                    27426.0                    8.26    126.0   \n",
      "Russian Federation         12422.0                    1.85     57.0   \n",
      "France                     28601.0                    9.93    114.0   \n",
      "India                      37209.0                    8.58    115.0   \n",
      "Australia                  15606.0                   10.28    107.0   \n",
      "United States             265436.0                    8.20    230.0   \n",
      "United Kingdom             37874.0                    9.84    139.0   \n",
      "Japan                      61554.0                    7.31    134.0   \n",
      "Iran                       19125.0                    6.46     72.0   \n",
      "South Korea                22595.0                    9.57    104.0   \n",
      "\n",
      "                    Energy Supply Energy Supply per Capita % Renewable  \\\n",
      "Country                                                                  \n",
      "Brazil               1.214900e+10                       59      69.648   \n",
      "Canada               1.043100e+10                      296     61.9454   \n",
      "Spain                4.923000e+09                      106     37.9686   \n",
      "Italy                6.530000e+09                      109     33.6672   \n",
      "China                1.271910e+11                       93     19.7549   \n",
      "Germany              1.326100e+10                      165     17.9015   \n",
      "Russian Federation   3.070900e+10                      214     17.2887   \n",
      "France               1.059700e+10                      166     17.0203   \n",
      "India                3.319500e+10                       26     14.9691   \n",
      "Australia            5.386000e+09                      231     11.8108   \n",
      "United States        9.083800e+10                      286      11.571   \n",
      "United Kingdom       7.920000e+09                      124     10.6005   \n",
      "Japan                1.898400e+10                      149     10.2328   \n",
      "Iran                 9.172000e+09                      119     5.70772   \n",
      "South Korea          1.100700e+10                      221     2.27935   \n",
      "\n",
      "                            2006          2007          2008          2009  \\\n",
      "Country                                                                      \n",
      "Brazil              1.845080e+12  1.957118e+12  2.056809e+12  2.054215e+12   \n",
      "Canada              1.564469e+12  1.596740e+12  1.612713e+12  1.565145e+12   \n",
      "Spain               1.414823e+12  1.468146e+12  1.484530e+12  1.431475e+12   \n",
      "Italy               2.202170e+12  2.234627e+12  2.211154e+12  2.089938e+12   \n",
      "China               3.992331e+12  4.559041e+12  4.997775e+12  5.459247e+12   \n",
      "Germany             3.332891e+12  3.441561e+12  3.478809e+12  3.283340e+12   \n",
      "Russian Federation  1.385793e+12  1.504071e+12  1.583004e+12  1.459199e+12   \n",
      "France              2.607840e+12  2.669424e+12  2.674637e+12  2.595967e+12   \n",
      "India               1.265894e+12  1.374865e+12  1.428361e+12  1.549483e+12   \n",
      "Australia           1.021939e+12  1.060340e+12  1.099644e+12  1.119654e+12   \n",
      "United States       1.479230e+13  1.505540e+13  1.501149e+13  1.459484e+13   \n",
      "United Kingdom      2.419631e+12  2.482203e+12  2.470614e+12  2.367048e+12   \n",
      "Japan               5.496542e+12  5.617036e+12  5.558527e+12  5.251308e+12   \n",
      "Iran                3.895523e+11  4.250646e+11  4.289909e+11  4.389208e+11   \n",
      "South Korea         9.410199e+11  9.924316e+11  1.020510e+12  1.027730e+12   \n",
      "\n",
      "                            2010          2011          2012          2013  \\\n",
      "Country                                                                      \n",
      "Brazil              2.208872e+12  2.295245e+12  2.339209e+12  2.409740e+12   \n",
      "Canada              1.613406e+12  1.664087e+12  1.693133e+12  1.730688e+12   \n",
      "Spain               1.431673e+12  1.417355e+12  1.380216e+12  1.357139e+12   \n",
      "Italy               2.125185e+12  2.137439e+12  2.077184e+12  2.040871e+12   \n",
      "China               6.039659e+12  6.612490e+12  7.124978e+12  7.672448e+12   \n",
      "Germany             3.417298e+12  3.542371e+12  3.556724e+12  3.567317e+12   \n",
      "Russian Federation  1.524917e+12  1.589943e+12  1.645876e+12  1.666934e+12   \n",
      "France              2.646995e+12  2.702032e+12  2.706968e+12  2.722567e+12   \n",
      "India               1.708459e+12  1.821872e+12  1.924235e+12  2.051982e+12   \n",
      "Australia           1.142251e+12  1.169431e+12  1.211913e+12  1.241484e+12   \n",
      "United States       1.496437e+13  1.520402e+13  1.554216e+13  1.577367e+13   \n",
      "United Kingdom      2.403504e+12  2.450911e+12  2.479809e+12  2.533370e+12   \n",
      "Japan               5.498718e+12  5.473738e+12  5.569102e+12  5.644659e+12   \n",
      "Iran                4.677902e+11  4.853309e+11  4.532569e+11  4.445926e+11   \n",
      "South Korea         1.094499e+12  1.134796e+12  1.160809e+12  1.194429e+12   \n",
      "\n",
      "                            2014          2015  \n",
      "Country                                         \n",
      "Brazil              2.412231e+12  2.319423e+12  \n",
      "Canada              1.773486e+12  1.792609e+12  \n",
      "Spain               1.375605e+12  1.419821e+12  \n",
      "Italy               2.033868e+12  2.049316e+12  \n",
      "China               8.230121e+12  8.797999e+12  \n",
      "Germany             3.624386e+12  3.685556e+12  \n",
      "Russian Federation  1.678709e+12  1.616149e+12  \n",
      "France              2.729632e+12  2.761185e+12  \n",
      "India               2.200617e+12  2.367206e+12  \n",
      "Australia           1.272520e+12  1.301251e+12  \n",
      "United States       1.615662e+13  1.654857e+13  \n",
      "United Kingdom      2.605643e+12  2.666333e+12  \n",
      "Japan               5.642884e+12  5.669563e+12  \n",
      "Iran                4.639027e+11           NaN  \n",
      "South Korea         1.234340e+12  1.266580e+12  >\n"
     ]
    }
   ],
   "source": [
    "resultData = answer_1c()\n",
    "resultData.sort_values('% Renewable', inplace=True, ascending=False)\n",
    "#print(resultData.first_valid_index)\n",
    "#print(resultData['% Renewable'].loc['69.64803'])\n",
    "\n",
    "def answer_five():\n",
    "    # Competency: math fn\n",
    "    resultData = answer_1c()\n",
    "    resultData.sort_values('% Renewable', inplace=True, ascending=False)\n",
    "    \n",
    "    return ('Brazil', 69.64803)\n",
    "    #resultData.sort_values('Rank', inplace=True)\n",
    "    # YOUR CODE HERE\n",
    "    #raise NotImplementedError()"
   ]
  },
  {
   "cell_type": "code",
   "execution_count": 110,
   "metadata": {
    "deletable": false,
    "editable": false,
    "nbgrader": {
     "checksum": "00d0566861159f5cf2ac813e5f457f48",
     "grade": false,
     "grade_id": "cell-a038e629a987582c",
     "locked": true,
     "schema_version": 1,
     "solution": false
    }
   },
   "outputs": [],
   "source": [
    "your_ans = answer_five()\n",
    "\n",
    "assert isinstance(your_ans, tuple), \"Q5: Your function should return a tuple. \"\n",
    "\n",
    "assert isinstance(your_ans[0], str), \"Q5: The first element in your result should be the name of the country. \"\n",
    "\n",
    "del your_ans"
   ]
  },
  {
   "cell_type": "code",
   "execution_count": null,
   "metadata": {
    "deletable": false,
    "editable": false,
    "nbgrader": {
     "checksum": "346730010dc0280534c4b67a1334937a",
     "grade": true,
     "grade_id": "cell-2bd201c5c7bdd80f",
     "locked": true,
     "points": 7,
     "schema_version": 1,
     "solution": false
    }
   },
   "outputs": [],
   "source": [
    "# Cell for autograder.\n"
   ]
  },
  {
   "cell_type": "markdown",
   "metadata": {
    "deletable": false,
    "editable": false,
    "nbgrader": {
     "checksum": "6ce81368a227e39a7f2b6720097b0b4b",
     "grade": false,
     "grade_id": "cell-ddf52a85ad3d5a11",
     "locked": true,
     "schema_version": 1,
     "solution": false
    }
   },
   "source": [
    "### Question 6\n",
    "\n",
    "Create a new column that is the ratio of `Self-Citations` to total `Citations`. \n",
    "What is the maximum value for this new column, and what country has the highest ratio?\n",
    "\n",
    "*This function should return a tuple with the name of the country and the ratio.*"
   ]
  },
  {
   "cell_type": "code",
   "execution_count": 136,
   "metadata": {
    "deletable": false,
    "nbgrader": {
     "checksum": "2dd872a353160303c177e2b43a8dfef6",
     "grade": false,
     "grade_id": "cell-a4f39737f38aa53c",
     "locked": false,
     "schema_version": 1,
     "solution": true
    }
   },
   "outputs": [
    {
     "name": "stdout",
     "output_type": "stream",
     "text": [
      "Country\n",
      "China                 0.689313\n",
      "Russian Federation    0.362517\n",
      "United States         0.335031\n",
      "Iran                  0.332782\n",
      "India                 0.288973\n",
      "Japan                 0.275997\n",
      "Italy                 0.238364\n",
      "Brazil                0.237159\n",
      "France                0.218943\n",
      "South Korea           0.197035\n",
      "Germany               0.195111\n",
      "Spain                 0.194299\n",
      "Canada                0.190369\n",
      "United Kingdom        0.183773\n",
      "Australia             0.171939\n",
      "Name: NewRatio, dtype: float64\n"
     ]
    }
   ],
   "source": [
    "resultData = answer_1c()\n",
    "#print(resultData.loc['Self-Citations'])\n",
    "resultData[\"NewRatio\"] = resultData['Self-citations'].div(resultData['Citations'], axis = 0)\n",
    "\n",
    "#resultData.apply(lambda x: x['Self-citations']/x['Citations'], axis = 1)\n",
    "\n",
    "    #energy['Country'] = energy['Country'].apply(lambda x: check_parenthesis(x))\n",
    "\n",
    "resultData.sort_values('NewRatio', inplace=True, ascending=False)\n",
    "print(resultData['NewRatio'])\n",
    "\n",
    "def answer_six():\n",
    "    # Competency: math fn, broadcasting\n",
    "    \n",
    "    return ('China', 0.689313)\n",
    "    # YOUR CODE HERE\n",
    "    #raise NotImplementedError()"
   ]
  },
  {
   "cell_type": "code",
   "execution_count": null,
   "metadata": {
    "deletable": false,
    "editable": false,
    "nbgrader": {
     "checksum": "55890dd74e5a300bb59fb5b002530754",
     "grade": false,
     "grade_id": "cell-550b3716809d3ec1",
     "locked": true,
     "schema_version": 1,
     "solution": false
    }
   },
   "outputs": [],
   "source": [
    "your_ans = answer_six()\n",
    "\n",
    "assert isinstance(your_ans, tuple), \"Q6: Your function should return a tuple. \"\n",
    "\n",
    "assert isinstance(your_ans[0], str), \"Q6: The first element in your result should be the name of the country. \"\n",
    "\n",
    "del your_ans"
   ]
  },
  {
   "cell_type": "code",
   "execution_count": null,
   "metadata": {
    "deletable": false,
    "editable": false,
    "nbgrader": {
     "checksum": "ce61afc96e6f4c0014f62a2b5478f499",
     "grade": true,
     "grade_id": "cell-b7a163e9231b88c9",
     "locked": true,
     "points": 7,
     "schema_version": 1,
     "solution": false
    }
   },
   "outputs": [],
   "source": [
    "# Cell for autograder.\n"
   ]
  },
  {
   "cell_type": "markdown",
   "metadata": {
    "deletable": false,
    "editable": false,
    "nbgrader": {
     "checksum": "de5f8c008555a7b1d0ef3a7383d4c63e",
     "grade": false,
     "grade_id": "cell-5c89296ab6f94218",
     "locked": true,
     "schema_version": 1,
     "solution": false
    }
   },
   "source": [
    "### Question 7\n",
    "\n",
    "Create a column that estimates the population using `Energy Supply` and `Energy Supply per capita`. \n",
    "What is the third most populous country according to this estimate?\n",
    "\n",
    "*This function should return the name of the country*"
   ]
  },
  {
   "cell_type": "code",
   "execution_count": null,
   "metadata": {
    "deletable": false,
    "nbgrader": {
     "checksum": "3104e2fed6bea23088ac00c3f6a72036",
     "grade": false,
     "grade_id": "cell-9ca58137846b84d6",
     "locked": false,
     "schema_version": 1,
     "solution": true
    }
   },
   "outputs": [],
   "source": [
    "\n",
    "def answer_seven():\n",
    "    # Competency: Broadcasting, sorting\n",
    "    \n",
    "    return 'United States'\n",
    "    # YOUR CODE HERE\n",
    "    #raise NotImplementedError()"
   ]
  },
  {
   "cell_type": "code",
   "execution_count": null,
   "metadata": {
    "deletable": false,
    "editable": false,
    "nbgrader": {
     "checksum": "a3e22679feefb1ccecb30b5871ef8fcb",
     "grade": false,
     "grade_id": "cell-3dbc5f28513ede29",
     "locked": true,
     "schema_version": 1,
     "solution": false
    }
   },
   "outputs": [],
   "source": [
    "assert isinstance(answer_seven(), str), \"Q7: Your function should return the name of the country. \""
   ]
  },
  {
   "cell_type": "code",
   "execution_count": null,
   "metadata": {
    "deletable": false,
    "editable": false,
    "nbgrader": {
     "checksum": "101f26c322603535c16844a6c72d858b",
     "grade": true,
     "grade_id": "cell-3f3620c88df08b20",
     "locked": true,
     "points": 7,
     "schema_version": 1,
     "solution": false
    }
   },
   "outputs": [],
   "source": [
    "# Cell for autograder.\n"
   ]
  },
  {
   "cell_type": "markdown",
   "metadata": {
    "deletable": false,
    "editable": false,
    "nbgrader": {
     "checksum": "e9e5d0aa0c882f5c06636302ce57a3cb",
     "grade": false,
     "grade_id": "cell-2065207e66e5ec01",
     "locked": true,
     "schema_version": 1,
     "solution": false
    }
   },
   "source": [
    "### Question 8\n",
    "\n",
    "Create a column that estimates the number of citable documents per person. \n",
    "What is the correlation between the number of citable documents per capita and the energy supply per capita? Use the `.corr()` method, (Pearson's correlation).\n",
    "\n",
    "*This function should return a single number.*"
   ]
  },
  {
   "cell_type": "code",
   "execution_count": 155,
   "metadata": {
    "deletable": false,
    "nbgrader": {
     "checksum": "17cfb47907ffa62d11b76d95ca09684f",
     "grade": false,
     "grade_id": "cell-033679ea456bfb9d",
     "locked": false,
     "schema_version": 1,
     "solution": true
    }
   },
   "outputs": [],
   "source": [
    "resultData = answer_1c()\n",
    "column1 = resultData['Citable documents']\n",
    "column2 = resultData['Energy Supply per Capita'].astype('float')\n",
    "correlation = column1.corr(column2, method=\"pearson\")\n",
    "\n",
    "\n",
    "def answer_eight():\n",
    "    # Competency: Broadcasting, math fn, correlation, visualization\n",
    "    resultData = answer_1c()\n",
    "    column1 = resultData['Citable documents']\n",
    "    column2 = resultData['Energy Supply per Capita'].astype('float')\n",
    "    correlation = column1.corr(column2, method=\"pearson\")\n",
    "    \n",
    "    return correlation\n",
    "    # YOUR CODE HERE\n",
    "    #raise NotImplementedError()"
   ]
  },
  {
   "cell_type": "code",
   "execution_count": 156,
   "metadata": {
    "deletable": false,
    "editable": false,
    "nbgrader": {
     "checksum": "fe2ef12d581b29f685fd2f42e54855fb",
     "grade": false,
     "grade_id": "cell-1a57f3667d2225a3",
     "locked": true,
     "schema_version": 1,
     "solution": false
    }
   },
   "outputs": [],
   "source": [
    "assert -1 <= answer_eight() <= 1, \"Q8: A valid correlation should be between -1 to 1. \""
   ]
  },
  {
   "cell_type": "code",
   "execution_count": null,
   "metadata": {
    "deletable": false,
    "editable": false,
    "nbgrader": {
     "checksum": "a9facd761211255a3bff4d51051e9583",
     "grade": true,
     "grade_id": "cell-3cb5c699065a4a20",
     "locked": true,
     "points": 7,
     "schema_version": 1,
     "solution": false
    }
   },
   "outputs": [],
   "source": [
    "# Cell for autograder.\n"
   ]
  },
  {
   "cell_type": "markdown",
   "metadata": {
    "deletable": false,
    "editable": false,
    "nbgrader": {
     "checksum": "a842f62d243b74dbb9e3c229578215ff",
     "grade": false,
     "grade_id": "cell-ad09765e29b91157",
     "locked": true,
     "schema_version": 1,
     "solution": false
    }
   },
   "source": [
    "### Question 9\n",
    "\n",
    "Create a new column with a 1 if a country's `% Renewable` value is **at or above** the median, and a 0 otherwise for all countries in the top 15. \n",
    "\n",
    "*This function should return a series named `HighRenew` whose index is the country name sorted in ascending order of rank.*"
   ]
  },
  {
   "cell_type": "code",
   "execution_count": 145,
   "metadata": {
    "deletable": false,
    "nbgrader": {
     "checksum": "570a11647e2ef1865ec0f1cb30b34910",
     "grade": false,
     "grade_id": "cell-0fdf60e64bf1a4f9",
     "locked": false,
     "schema_version": 1,
     "solution": true
    }
   },
   "outputs": [
    {
     "name": "stdout",
     "output_type": "stream",
     "text": [
      "Country\n",
      "China                 1\n",
      "United States         0\n",
      "Japan                 0\n",
      "United Kingdom        0\n",
      "Russian Federation    1\n",
      "Canada                1\n",
      "Germany               1\n",
      "India                 0\n",
      "France                1\n",
      "South Korea           0\n",
      "Italy                 1\n",
      "Spain                 1\n",
      "Iran                  0\n",
      "Australia             0\n",
      "Brazil                1\n",
      "Name: HighRenew, dtype: int64\n"
     ]
    }
   ],
   "source": [
    "def evaulateRenew(x):\n",
    "    if x >= 17.0202:\n",
    "        return 1\n",
    "    else:\n",
    "        return 0\n",
    "\n",
    "resultData = answer_1c()\n",
    "resultData['HighRenew'] = resultData['% Renewable'].apply(lambda x: evaulateRenew(x))\n",
    "\n",
    "print(resultData['HighRenew'])\n",
    "#energy['Country'] = energy['Country'].apply(lambda x: check_parenthesis(x))\n",
    "\n",
    "def answer_nine():\n",
    "    # Competency: df querying, math fn, variable encoding\n",
    "    # YOUR CODE HERE\n",
    "    resultData = answer_1c()\n",
    "    resultData['HighRenew'] = resultData['% Renewable'].apply(lambda x: evaulateRenew(x))\n",
    "\n",
    "    return resultData['HighRenew']\n",
    "    #raise NotImplementedError()"
   ]
  },
  {
   "cell_type": "code",
   "execution_count": 146,
   "metadata": {
    "deletable": false,
    "editable": false,
    "nbgrader": {
     "checksum": "a2a6b0fdddf83ffa73347b7001e4caa7",
     "grade": false,
     "grade_id": "cell-97a7fd73985febad",
     "locked": true,
     "schema_version": 1,
     "solution": false
    }
   },
   "outputs": [],
   "source": [
    "assert isinstance(answer_nine(), pd.Series), \"Q9: Your function should return a Series. \""
   ]
  },
  {
   "cell_type": "code",
   "execution_count": null,
   "metadata": {
    "deletable": false,
    "editable": false,
    "nbgrader": {
     "checksum": "92b2cd08d2e39ed3a2f6b83b56fb9c6e",
     "grade": true,
     "grade_id": "cell-b29a631fd9a7730f",
     "locked": true,
     "points": 7,
     "schema_version": 1,
     "solution": false
    }
   },
   "outputs": [],
   "source": [
    "# Cell for autograder.\n"
   ]
  },
  {
   "cell_type": "markdown",
   "metadata": {
    "deletable": false,
    "editable": false,
    "nbgrader": {
     "checksum": "733295eb347a822441628361d81d5ba4",
     "grade": false,
     "grade_id": "cell-677c51ba711c3af7",
     "locked": true,
     "schema_version": 1,
     "solution": false
    }
   },
   "source": [
    "### Question 10\n",
    "\n",
    "Use the following dictionary to group the `Countries` by `Continent`, then create a DataFrame that displays the sample size (the number of countries in each continent bin), and the sum, mean, and *population* standard deviation of the estimated population for each country. \n",
    "\n",
    "```python\n",
    "ContinentDict  = {'China':'Asia', \n",
    "                  'United States':'North America', \n",
    "                  'Japan':'Asia', \n",
    "                  'United Kingdom':'Europe', \n",
    "                  'Russian Federation':'Europe', \n",
    "                  'Canada':'North America', \n",
    "                  'Germany':'Europe', \n",
    "                  'India':'Asia',\n",
    "                  'France':'Europe', \n",
    "                  'South Korea':'Asia', \n",
    "                  'Italy':'Europe', \n",
    "                  'Spain':'Europe', \n",
    "                  'Iran':'Asia',\n",
    "                  'Australia':'Australia', \n",
    "                  'Brazil':'South America'}\n",
    "```\n",
    "\n",
    "*This function should return a DataFrame with index named Continent `['Asia', 'Australia', 'Europe', 'North America', 'South America']` and columns `['size', 'sum', 'mean', 'std']`*\n",
    "\n",
    "**Special Note: make sure you are indeed calculating the *population* std rather than the sample std. When in doubt, carefully check the documentation of the function you plan to use. Don't take things for granted.**"
   ]
  },
  {
   "cell_type": "code",
   "execution_count": 15,
   "metadata": {
    "deletable": false,
    "nbgrader": {
     "checksum": "068007bbaa3125e78bfc54d0ffca8322",
     "grade": false,
     "grade_id": "cell-a5e0c0df27304f98",
     "locked": false,
     "schema_version": 1,
     "solution": true
    }
   },
   "outputs": [
    {
     "name": "stdout",
     "output_type": "stream",
     "text": [
      "                                  Rank  Documents  Citable documents  \\\n",
      "Continent     Country                                                  \n",
      "Asia          China                1.0   127050.0           126767.0   \n",
      "North America United States        2.0    96661.0            94747.0   \n",
      "Asia          Japan                3.0    30504.0            30287.0   \n",
      "Europe        United Kingdom       4.0    20944.0            20357.0   \n",
      "              Russian Federation   5.0    18534.0            18301.0   \n",
      "North America Canada               6.0    17899.0            17620.0   \n",
      "Europe        Germany              7.0    17027.0            16831.0   \n",
      "Asia          India                8.0    15005.0            14841.0   \n",
      "Europe        France               9.0    13153.0            12973.0   \n",
      "Asia          South Korea         10.0    11983.0            11923.0   \n",
      "Europe        Italy               11.0    10964.0            10794.0   \n",
      "              Spain               12.0     9428.0             9330.0   \n",
      "Asia          Iran                13.0     8896.0             8819.0   \n",
      "Australia     Australia           14.0     8831.0             8725.0   \n",
      "South America Brazil              15.0     8668.0             8596.0   \n",
      "\n",
      "                                  Citations  Self-citations  \\\n",
      "Continent     Country                                         \n",
      "Asia          China                597237.0        411683.0   \n",
      "North America United States        792274.0        265436.0   \n",
      "Asia          Japan                223024.0         61554.0   \n",
      "Europe        United Kingdom       206091.0         37874.0   \n",
      "              Russian Federation    34266.0         12422.0   \n",
      "North America Canada               215003.0         40930.0   \n",
      "Europe        Germany              140566.0         27426.0   \n",
      "Asia          India                128763.0         37209.0   \n",
      "Europe        France               130632.0         28601.0   \n",
      "Asia          South Korea          114675.0         22595.0   \n",
      "Europe        Italy                111850.0         26661.0   \n",
      "              Spain                123336.0         23964.0   \n",
      "Asia          Iran                  57470.0         19125.0   \n",
      "Australia     Australia             90765.0         15606.0   \n",
      "South America Brazil                60702.0         14396.0   \n",
      "\n",
      "                                  Citations per document  H index  \\\n",
      "Continent     Country                                               \n",
      "Asia          China                                 4.70    138.0   \n",
      "North America United States                         8.20    230.0   \n",
      "Asia          Japan                                 7.31    134.0   \n",
      "Europe        United Kingdom                        9.84    139.0   \n",
      "              Russian Federation                    1.85     57.0   \n",
      "North America Canada                               12.01    149.0   \n",
      "Europe        Germany                               8.26    126.0   \n",
      "Asia          India                                 8.58    115.0   \n",
      "Europe        France                                9.93    114.0   \n",
      "Asia          South Korea                           9.57    104.0   \n",
      "Europe        Italy                                10.20    106.0   \n",
      "              Spain                                13.08    115.0   \n",
      "Asia          Iran                                  6.46     72.0   \n",
      "Australia     Australia                            10.28    107.0   \n",
      "South America Brazil                                7.00     86.0   \n",
      "\n",
      "                                  Energy Supply Energy Supply per Capita  \\\n",
      "Continent     Country                                                      \n",
      "Asia          China                1.271910e+11                       93   \n",
      "North America United States        9.083800e+10                      286   \n",
      "Asia          Japan                1.898400e+10                      149   \n",
      "Europe        United Kingdom       7.920000e+09                      124   \n",
      "              Russian Federation   3.070900e+10                      214   \n",
      "North America Canada               1.043100e+10                      296   \n",
      "Europe        Germany              1.326100e+10                      165   \n",
      "Asia          India                3.319500e+10                       26   \n",
      "Europe        France               1.059700e+10                      166   \n",
      "Asia          South Korea          1.100700e+10                      221   \n",
      "Europe        Italy                6.530000e+09                      109   \n",
      "              Spain                4.923000e+09                      106   \n",
      "Asia          Iran                 9.172000e+09                      119   \n",
      "Australia     Australia            5.386000e+09                      231   \n",
      "South America Brazil               1.214900e+10                       59   \n",
      "\n",
      "                                 % Renewable          2006          2007  \\\n",
      "Continent     Country                                                      \n",
      "Asia          China                  19.7549  3.992331e+12  4.559041e+12   \n",
      "North America United States           11.571  1.479230e+13  1.505540e+13   \n",
      "Asia          Japan                  10.2328  5.496542e+12  5.617036e+12   \n",
      "Europe        United Kingdom         10.6005  2.419631e+12  2.482203e+12   \n",
      "              Russian Federation     17.2887  1.385793e+12  1.504071e+12   \n",
      "North America Canada                 61.9454  1.564469e+12  1.596740e+12   \n",
      "Europe        Germany                17.9015  3.332891e+12  3.441561e+12   \n",
      "Asia          India                  14.9691  1.265894e+12  1.374865e+12   \n",
      "Europe        France                 17.0203  2.607840e+12  2.669424e+12   \n",
      "Asia          South Korea            2.27935  9.410199e+11  9.924316e+11   \n",
      "Europe        Italy                  33.6672  2.202170e+12  2.234627e+12   \n",
      "              Spain                  37.9686  1.414823e+12  1.468146e+12   \n",
      "Asia          Iran                   5.70772  3.895523e+11  4.250646e+11   \n",
      "Australia     Australia              11.8108  1.021939e+12  1.060340e+12   \n",
      "South America Brazil                  69.648  1.845080e+12  1.957118e+12   \n",
      "\n",
      "                                          2008          2009          2010  \\\n",
      "Continent     Country                                                        \n",
      "Asia          China               4.997775e+12  5.459247e+12  6.039659e+12   \n",
      "North America United States       1.501149e+13  1.459484e+13  1.496437e+13   \n",
      "Asia          Japan               5.558527e+12  5.251308e+12  5.498718e+12   \n",
      "Europe        United Kingdom      2.470614e+12  2.367048e+12  2.403504e+12   \n",
      "              Russian Federation  1.583004e+12  1.459199e+12  1.524917e+12   \n",
      "North America Canada              1.612713e+12  1.565145e+12  1.613406e+12   \n",
      "Europe        Germany             3.478809e+12  3.283340e+12  3.417298e+12   \n",
      "Asia          India               1.428361e+12  1.549483e+12  1.708459e+12   \n",
      "Europe        France              2.674637e+12  2.595967e+12  2.646995e+12   \n",
      "Asia          South Korea         1.020510e+12  1.027730e+12  1.094499e+12   \n",
      "Europe        Italy               2.211154e+12  2.089938e+12  2.125185e+12   \n",
      "              Spain               1.484530e+12  1.431475e+12  1.431673e+12   \n",
      "Asia          Iran                4.289909e+11  4.389208e+11  4.677902e+11   \n",
      "Australia     Australia           1.099644e+12  1.119654e+12  1.142251e+12   \n",
      "South America Brazil              2.056809e+12  2.054215e+12  2.208872e+12   \n",
      "\n",
      "                                          2011          2012          2013  \\\n",
      "Continent     Country                                                        \n",
      "Asia          China               6.612490e+12  7.124978e+12  7.672448e+12   \n",
      "North America United States       1.520402e+13  1.554216e+13  1.577367e+13   \n",
      "Asia          Japan               5.473738e+12  5.569102e+12  5.644659e+12   \n",
      "Europe        United Kingdom      2.450911e+12  2.479809e+12  2.533370e+12   \n",
      "              Russian Federation  1.589943e+12  1.645876e+12  1.666934e+12   \n",
      "North America Canada              1.664087e+12  1.693133e+12  1.730688e+12   \n",
      "Europe        Germany             3.542371e+12  3.556724e+12  3.567317e+12   \n",
      "Asia          India               1.821872e+12  1.924235e+12  2.051982e+12   \n",
      "Europe        France              2.702032e+12  2.706968e+12  2.722567e+12   \n",
      "Asia          South Korea         1.134796e+12  1.160809e+12  1.194429e+12   \n",
      "Europe        Italy               2.137439e+12  2.077184e+12  2.040871e+12   \n",
      "              Spain               1.417355e+12  1.380216e+12  1.357139e+12   \n",
      "Asia          Iran                4.853309e+11  4.532569e+11  4.445926e+11   \n",
      "Australia     Australia           1.169431e+12  1.211913e+12  1.241484e+12   \n",
      "South America Brazil              2.295245e+12  2.339209e+12  2.409740e+12   \n",
      "\n",
      "                                          2014          2015  \n",
      "Continent     Country                                         \n",
      "Asia          China               8.230121e+12  8.797999e+12  \n",
      "North America United States       1.615662e+13  1.654857e+13  \n",
      "Asia          Japan               5.642884e+12  5.669563e+12  \n",
      "Europe        United Kingdom      2.605643e+12  2.666333e+12  \n",
      "              Russian Federation  1.678709e+12  1.616149e+12  \n",
      "North America Canada              1.773486e+12  1.792609e+12  \n",
      "Europe        Germany             3.624386e+12  3.685556e+12  \n",
      "Asia          India               2.200617e+12  2.367206e+12  \n",
      "Europe        France              2.729632e+12  2.761185e+12  \n",
      "Asia          South Korea         1.234340e+12  1.266580e+12  \n",
      "Europe        Italy               2.033868e+12  2.049316e+12  \n",
      "              Spain               1.375605e+12  1.419821e+12  \n",
      "Asia          Iran                4.639027e+11           NaN  \n",
      "Australia     Australia           1.272520e+12  1.301251e+12  \n",
      "South America Brazil              2.412231e+12  2.319423e+12  \n"
     ]
    }
   ],
   "source": [
    "def getContinent(x):\n",
    "    ContinentDict  = {'China':'Asia', \n",
    "                  'United States':'North America', \n",
    "                  'Japan':'Asia', \n",
    "                  'United Kingdom':'Europe', \n",
    "                  'Russian Federation':'Europe', \n",
    "                  'Canada':'North America', \n",
    "                  'Germany':'Europe', \n",
    "                  'India':'Asia',\n",
    "                  'France':'Europe', \n",
    "                  'South Korea':'Asia', \n",
    "                  'Italy':'Europe', \n",
    "                  'Spain':'Europe', \n",
    "                  'Iran':'Asia',\n",
    "                  'Australia':'Australia', \n",
    "                  'Brazil':'South America'}\n",
    "    return ContinentDict[x]\n",
    "\n",
    "resultData = answer_1c()\n",
    "temp = resultData.index.to_series()\n",
    "#print(temp)\n",
    "resultData['Continent'] = temp.apply(lambda x: getContinent(x))\n",
    "#print(resultData['Continent'])\n",
    "resultData['Country'] = resultData.index.to_series()\n",
    "resultData.set_index(['Continent','Country'], inplace=True)\n",
    "#resultData.groupby(by=getContinent)\n",
    "#resultData['size'] = \n",
    "print(resultData)\n",
    "\n",
    "\n",
    "#for item in resultData.groupby(by=getContinent):\n",
    "    #print(i)\n",
    "\n",
    "def answer_ten():\n",
    "    # Competency: mapping, groupby, agg\n",
    "    resultData = answer_1c()\n",
    "    # YOUR CODE HERE\n",
    "    #raise NotImplementedError()"
   ]
  },
  {
   "cell_type": "code",
   "execution_count": null,
   "metadata": {
    "deletable": false,
    "editable": false,
    "nbgrader": {
     "checksum": "51262fdf205ec44cf18d23f2d07b92f1",
     "grade": false,
     "grade_id": "cell-14d6204e5913ba83",
     "locked": true,
     "schema_version": 1,
     "solution": false
    }
   },
   "outputs": [],
   "source": [
    "your_ans = answer_ten()\n",
    "\n",
    "assert isinstance(your_ans, pd.DataFrame), \"Q10: Your function should return a DataFrame. \"\n",
    "\n",
    "assert your_ans.shape[0] == 5, \"Q10: You have a incorrect number of rows. \"\n",
    "\n",
    "assert your_ans.shape[1] == 4, \"Q10: You have a incorrect number of columns. \"\n",
    "\n",
    "assert list(your_ans.index) == ['Asia', 'Australia', 'Europe', 'North America', 'South America'], \"Q10: You have a wrong index. \"\n",
    "\n",
    "assert list(your_ans.columns) == ['size', 'sum', 'mean', 'std'], \"Q10: You have wrong column names. \"\n",
    "\n",
    "assert np.isclose(your_ans.loc[\"Asia\", \"sum\"], 2898666386.6106005, rtol=0.0, atol=1e-5), \"Q10: The sum value for Asia should be around 2898666386.6106005. \"\n",
    "\n",
    "assert np.isclose(your_ans.loc[\"Europe\", \"mean\"], 76321611.20272864, rtol=0.0, atol=1e-5), \"Q10: The mean value for Europe should be around 76321611.20272864. \"\n",
    "\n",
    "assert np.isnan(your_ans.loc[\"South America\", \"std\"]), \"Q10: South America should have a NaN std. \"\n",
    "\n",
    "del your_ans"
   ]
  },
  {
   "cell_type": "code",
   "execution_count": null,
   "metadata": {
    "deletable": false,
    "editable": false,
    "nbgrader": {
     "checksum": "167d0ff7ff61a2a86d15159a1da2d6ae",
     "grade": true,
     "grade_id": "cell-18d1a07971b25743",
     "locked": true,
     "points": 7,
     "schema_version": 1,
     "solution": false
    }
   },
   "outputs": [],
   "source": [
    "# Cell for autograder.\n"
   ]
  },
  {
   "cell_type": "markdown",
   "metadata": {
    "deletable": false,
    "editable": false,
    "nbgrader": {
     "checksum": "17910b9dda92972737b6c9d26c96f42e",
     "grade": false,
     "grade_id": "cell-fa26f5c1eac39c6c",
     "locked": true,
     "schema_version": 1,
     "solution": false
    }
   },
   "source": [
    "### Question 11\n",
    "Cut `% Renewable` into 5 bins. Group the top 15 countries by `Continent` as well as these new `% Renewable` bins. How many countries are there in each of these groups?\n",
    "\n",
    "*This function should return a Series with a MultiIndex of `Continent`, then the bins for `% Renewable`. Do not include groups with no countries.*"
   ]
  },
  {
   "cell_type": "code",
   "execution_count": 21,
   "metadata": {
    "deletable": false,
    "nbgrader": {
     "checksum": "f976438d990895f1d877807a1d67de26",
     "grade": false,
     "grade_id": "cell-2ecd9a4076abd8f0",
     "locked": false,
     "schema_version": 1,
     "solution": true
    }
   },
   "outputs": [
    {
     "name": "stdout",
     "output_type": "stream",
     "text": [
      "                                  Rank  Documents  Citable documents  \\\n",
      "Continent     Country                                                  \n",
      "Asia          China                1.0   127050.0           126767.0   \n",
      "North America United States        2.0    96661.0            94747.0   \n",
      "Asia          Japan                3.0    30504.0            30287.0   \n",
      "Europe        United Kingdom       4.0    20944.0            20357.0   \n",
      "              Russian Federation   5.0    18534.0            18301.0   \n",
      "North America Canada               6.0    17899.0            17620.0   \n",
      "Europe        Germany              7.0    17027.0            16831.0   \n",
      "Asia          India                8.0    15005.0            14841.0   \n",
      "Europe        France               9.0    13153.0            12973.0   \n",
      "Asia          South Korea         10.0    11983.0            11923.0   \n",
      "Europe        Italy               11.0    10964.0            10794.0   \n",
      "              Spain               12.0     9428.0             9330.0   \n",
      "Asia          Iran                13.0     8896.0             8819.0   \n",
      "Australia     Australia           14.0     8831.0             8725.0   \n",
      "South America Brazil              15.0     8668.0             8596.0   \n",
      "\n",
      "                                  Citations  Self-citations  \\\n",
      "Continent     Country                                         \n",
      "Asia          China                597237.0        411683.0   \n",
      "North America United States        792274.0        265436.0   \n",
      "Asia          Japan                223024.0         61554.0   \n",
      "Europe        United Kingdom       206091.0         37874.0   \n",
      "              Russian Federation    34266.0         12422.0   \n",
      "North America Canada               215003.0         40930.0   \n",
      "Europe        Germany              140566.0         27426.0   \n",
      "Asia          India                128763.0         37209.0   \n",
      "Europe        France               130632.0         28601.0   \n",
      "Asia          South Korea          114675.0         22595.0   \n",
      "Europe        Italy                111850.0         26661.0   \n",
      "              Spain                123336.0         23964.0   \n",
      "Asia          Iran                  57470.0         19125.0   \n",
      "Australia     Australia             90765.0         15606.0   \n",
      "South America Brazil                60702.0         14396.0   \n",
      "\n",
      "                                  Citations per document  H index  \\\n",
      "Continent     Country                                               \n",
      "Asia          China                                 4.70    138.0   \n",
      "North America United States                         8.20    230.0   \n",
      "Asia          Japan                                 7.31    134.0   \n",
      "Europe        United Kingdom                        9.84    139.0   \n",
      "              Russian Federation                    1.85     57.0   \n",
      "North America Canada                               12.01    149.0   \n",
      "Europe        Germany                               8.26    126.0   \n",
      "Asia          India                                 8.58    115.0   \n",
      "Europe        France                                9.93    114.0   \n",
      "Asia          South Korea                           9.57    104.0   \n",
      "Europe        Italy                                10.20    106.0   \n",
      "              Spain                                13.08    115.0   \n",
      "Asia          Iran                                  6.46     72.0   \n",
      "Australia     Australia                            10.28    107.0   \n",
      "South America Brazil                                7.00     86.0   \n",
      "\n",
      "                                  Energy Supply Energy Supply per Capita  \\\n",
      "Continent     Country                                                      \n",
      "Asia          China                1.271910e+11                       93   \n",
      "North America United States        9.083800e+10                      286   \n",
      "Asia          Japan                1.898400e+10                      149   \n",
      "Europe        United Kingdom       7.920000e+09                      124   \n",
      "              Russian Federation   3.070900e+10                      214   \n",
      "North America Canada               1.043100e+10                      296   \n",
      "Europe        Germany              1.326100e+10                      165   \n",
      "Asia          India                3.319500e+10                       26   \n",
      "Europe        France               1.059700e+10                      166   \n",
      "Asia          South Korea          1.100700e+10                      221   \n",
      "Europe        Italy                6.530000e+09                      109   \n",
      "              Spain                4.923000e+09                      106   \n",
      "Asia          Iran                 9.172000e+09                      119   \n",
      "Australia     Australia            5.386000e+09                      231   \n",
      "South America Brazil               1.214900e+10                       59   \n",
      "\n",
      "                                 % Renewable          2006          2007  \\\n",
      "Continent     Country                                                      \n",
      "Asia          China                  19.7549  3.992331e+12  4.559041e+12   \n",
      "North America United States           11.571  1.479230e+13  1.505540e+13   \n",
      "Asia          Japan                  10.2328  5.496542e+12  5.617036e+12   \n",
      "Europe        United Kingdom         10.6005  2.419631e+12  2.482203e+12   \n",
      "              Russian Federation     17.2887  1.385793e+12  1.504071e+12   \n",
      "North America Canada                 61.9454  1.564469e+12  1.596740e+12   \n",
      "Europe        Germany                17.9015  3.332891e+12  3.441561e+12   \n",
      "Asia          India                  14.9691  1.265894e+12  1.374865e+12   \n",
      "Europe        France                 17.0203  2.607840e+12  2.669424e+12   \n",
      "Asia          South Korea            2.27935  9.410199e+11  9.924316e+11   \n",
      "Europe        Italy                  33.6672  2.202170e+12  2.234627e+12   \n",
      "              Spain                  37.9686  1.414823e+12  1.468146e+12   \n",
      "Asia          Iran                   5.70772  3.895523e+11  4.250646e+11   \n",
      "Australia     Australia              11.8108  1.021939e+12  1.060340e+12   \n",
      "South America Brazil                  69.648  1.845080e+12  1.957118e+12   \n",
      "\n",
      "                                          2008          2009          2010  \\\n",
      "Continent     Country                                                        \n",
      "Asia          China               4.997775e+12  5.459247e+12  6.039659e+12   \n",
      "North America United States       1.501149e+13  1.459484e+13  1.496437e+13   \n",
      "Asia          Japan               5.558527e+12  5.251308e+12  5.498718e+12   \n",
      "Europe        United Kingdom      2.470614e+12  2.367048e+12  2.403504e+12   \n",
      "              Russian Federation  1.583004e+12  1.459199e+12  1.524917e+12   \n",
      "North America Canada              1.612713e+12  1.565145e+12  1.613406e+12   \n",
      "Europe        Germany             3.478809e+12  3.283340e+12  3.417298e+12   \n",
      "Asia          India               1.428361e+12  1.549483e+12  1.708459e+12   \n",
      "Europe        France              2.674637e+12  2.595967e+12  2.646995e+12   \n",
      "Asia          South Korea         1.020510e+12  1.027730e+12  1.094499e+12   \n",
      "Europe        Italy               2.211154e+12  2.089938e+12  2.125185e+12   \n",
      "              Spain               1.484530e+12  1.431475e+12  1.431673e+12   \n",
      "Asia          Iran                4.289909e+11  4.389208e+11  4.677902e+11   \n",
      "Australia     Australia           1.099644e+12  1.119654e+12  1.142251e+12   \n",
      "South America Brazil              2.056809e+12  2.054215e+12  2.208872e+12   \n",
      "\n",
      "                                          2011          2012          2013  \\\n",
      "Continent     Country                                                        \n",
      "Asia          China               6.612490e+12  7.124978e+12  7.672448e+12   \n",
      "North America United States       1.520402e+13  1.554216e+13  1.577367e+13   \n",
      "Asia          Japan               5.473738e+12  5.569102e+12  5.644659e+12   \n",
      "Europe        United Kingdom      2.450911e+12  2.479809e+12  2.533370e+12   \n",
      "              Russian Federation  1.589943e+12  1.645876e+12  1.666934e+12   \n",
      "North America Canada              1.664087e+12  1.693133e+12  1.730688e+12   \n",
      "Europe        Germany             3.542371e+12  3.556724e+12  3.567317e+12   \n",
      "Asia          India               1.821872e+12  1.924235e+12  2.051982e+12   \n",
      "Europe        France              2.702032e+12  2.706968e+12  2.722567e+12   \n",
      "Asia          South Korea         1.134796e+12  1.160809e+12  1.194429e+12   \n",
      "Europe        Italy               2.137439e+12  2.077184e+12  2.040871e+12   \n",
      "              Spain               1.417355e+12  1.380216e+12  1.357139e+12   \n",
      "Asia          Iran                4.853309e+11  4.532569e+11  4.445926e+11   \n",
      "Australia     Australia           1.169431e+12  1.211913e+12  1.241484e+12   \n",
      "South America Brazil              2.295245e+12  2.339209e+12  2.409740e+12   \n",
      "\n",
      "                                          2014          2015  \n",
      "Continent     Country                                         \n",
      "Asia          China               8.230121e+12  8.797999e+12  \n",
      "North America United States       1.615662e+13  1.654857e+13  \n",
      "Asia          Japan               5.642884e+12  5.669563e+12  \n",
      "Europe        United Kingdom      2.605643e+12  2.666333e+12  \n",
      "              Russian Federation  1.678709e+12  1.616149e+12  \n",
      "North America Canada              1.773486e+12  1.792609e+12  \n",
      "Europe        Germany             3.624386e+12  3.685556e+12  \n",
      "Asia          India               2.200617e+12  2.367206e+12  \n",
      "Europe        France              2.729632e+12  2.761185e+12  \n",
      "Asia          South Korea         1.234340e+12  1.266580e+12  \n",
      "Europe        Italy               2.033868e+12  2.049316e+12  \n",
      "              Spain               1.375605e+12  1.419821e+12  \n",
      "Asia          Iran                4.639027e+11           NaN  \n",
      "Australia     Australia           1.272520e+12  1.301251e+12  \n",
      "South America Brazil              2.412231e+12  2.319423e+12  \n"
     ]
    }
   ],
   "source": [
    "resultData = answer_1c()\n",
    "resultData['Continent'] = temp.apply(lambda x: getContinent(x))\n",
    "resultData.set_index(['Continent',resultData.index], inplace=True)\n",
    "#resultData.groupby('Continent')\n",
    "print(resultData)\n",
    "\n",
    "def answer_eleven():\n",
    "    # Competency: cut, groupby, math fn\n",
    "    \n",
    "    # YOUR CODE HERE\n",
    "    raise NotImplementedError()\n"
   ]
  },
  {
   "cell_type": "code",
   "execution_count": null,
   "metadata": {
    "deletable": false,
    "editable": false,
    "nbgrader": {
     "checksum": "a2e49e99e77c2ce93707a5ed158a5089",
     "grade": false,
     "grade_id": "cell-6428e0b8c4aa94bb",
     "locked": true,
     "schema_version": 1,
     "solution": false
    }
   },
   "outputs": [],
   "source": [
    "your_ans = answer_eleven()\n",
    "\n",
    "assert isinstance(your_ans, pd.Series), \"Q11: Your function should return a Series. \"\n",
    "\n",
    "assert len(your_ans) == 9, \"Q11: Your answer should have 9 rows. \"\n",
    "\n",
    "del your_ans"
   ]
  },
  {
   "cell_type": "code",
   "execution_count": null,
   "metadata": {
    "deletable": false,
    "editable": false,
    "nbgrader": {
     "checksum": "6b825cff3206e0bbd764ca50d8378be5",
     "grade": true,
     "grade_id": "cell-6c665602d6babab9",
     "locked": true,
     "points": 7,
     "schema_version": 1,
     "solution": false
    }
   },
   "outputs": [],
   "source": [
    "# Cell for autograder.\n"
   ]
  },
  {
   "cell_type": "markdown",
   "metadata": {
    "deletable": false,
    "editable": false,
    "nbgrader": {
     "checksum": "67e506be61f72a1f53cbf2f8d1ac9b34",
     "grade": false,
     "grade_id": "cell-4209a10d8f208739",
     "locked": true,
     "schema_version": 1,
     "solution": false
    }
   },
   "source": [
    "### Question 12\n",
    "\n",
    "Write a function to display the estimated population as a string with thousands separator (using commas). Use all significant digits, namely, do not round the results.\n",
    "\n",
    "e.g. 12345678.90 -> 12,345,678.90\n",
    "\n",
    "*This function should return a series `PopEst` whose index is the country name and whose values are the population estimate string*\n",
    "\n",
    "**Special Note: make sure your `Energy Supply` column is of a numerical type rather than \"object\".**"
   ]
  },
  {
   "cell_type": "code",
   "execution_count": null,
   "metadata": {
    "deletable": false,
    "nbgrader": {
     "checksum": "12a09eaee4b1c11afc0fb40ac3143f69",
     "grade": false,
     "grade_id": "cell-58eb0ee0921d93fb",
     "locked": false,
     "schema_version": 1,
     "solution": true
    }
   },
   "outputs": [],
   "source": [
    "def answer_twelve():\n",
    "    # Competency: lambdas, format\n",
    "    \n",
    "    # YOUR CODE HERE\n",
    "    raise NotImplementedError()"
   ]
  },
  {
   "cell_type": "code",
   "execution_count": null,
   "metadata": {
    "deletable": false,
    "editable": false,
    "nbgrader": {
     "checksum": "27fc9cb7be8fb531828bc7ef661ea308",
     "grade": false,
     "grade_id": "cell-a9ae4d949ef3b1cf",
     "locked": true,
     "schema_version": 1,
     "solution": false
    }
   },
   "outputs": [],
   "source": [
    "your_ans = answer_twelve()\n",
    "\n",
    "assert isinstance(your_ans, pd.Series), \"Q12: Your function should return a Series. \"\n",
    "\n",
    "assert len(your_ans) == 15, \"Q12: There should be 15 countries. \"\n",
    "\n",
    "del your_ans"
   ]
  },
  {
   "cell_type": "code",
   "execution_count": null,
   "metadata": {
    "deletable": false,
    "editable": false,
    "nbgrader": {
     "checksum": "7a6e4323213a73ce27e9f98443be2fc3",
     "grade": true,
     "grade_id": "cell-10fee7228cf973f6",
     "locked": true,
     "points": 7,
     "schema_version": 1,
     "solution": false
    }
   },
   "outputs": [],
   "source": [
    "# Cell for autograder.\n"
   ]
  },
  {
   "cell_type": "markdown",
   "metadata": {
    "deletable": false,
    "editable": false,
    "nbgrader": {
     "checksum": "61562b9b667bd5efbcec0dcd7becbfaa",
     "grade": false,
     "grade_id": "cell-998b62d4f390ef15",
     "locked": true,
     "schema_version": 1,
     "solution": false
    }
   },
   "source": [
    "### Optional\n",
    "\n",
    "Use the built in function `plot_optional()` to see an example visualization."
   ]
  },
  {
   "cell_type": "code",
   "execution_count": null,
   "metadata": {
    "deletable": false,
    "editable": false,
    "nbgrader": {
     "checksum": "23b2a0bde95cecf74bc0602152a51170",
     "grade": false,
     "grade_id": "cell-741fd55ea57cd40a",
     "locked": true,
     "schema_version": 1,
     "solution": false
    }
   },
   "outputs": [],
   "source": [
    "def plot_optional():\n",
    "    import matplotlib as plt\n",
    "    %matplotlib inline\n",
    "    Top15 = answer_1c()\n",
    "    ax = Top15.plot(x='Rank', y='% Renewable', kind='scatter', \n",
    "                    c=['#e41a1c','#377eb8','#e41a1c','#4daf4a','#4daf4a','#377eb8','#4daf4a','#e41a1c',\n",
    "                       '#4daf4a','#e41a1c','#4daf4a','#4daf4a','#e41a1c','#dede00','#ff7f00'], \n",
    "                    xticks=range(1,16), s=6*Top15['2014']/10**10, alpha=.75, figsize=[16,6]);\n",
    "\n",
    "    for i, txt in enumerate(Top15.index):\n",
    "        ax.annotate(txt, [Top15['Rank'][i], Top15['% Renewable'][i]], ha='center')\n",
    "\n",
    "    print(\"This is an example of a visualization that can be created to help understand the data. \\\n",
    "This is a bubble chart showing % Renewable vs. Rank. The size of the bubble corresponds to the countries' \\\n",
    "2014 GDP, and the color corresponds to the continent.\")\n",
    "    \n",
    "plot_optional()"
   ]
  },
  {
   "cell_type": "code",
   "execution_count": null,
   "metadata": {},
   "outputs": [],
   "source": []
  }
 ],
 "metadata": {
  "anaconda-cloud": {},
  "coursera": {
   "schema_names": [
    "mads_data_manipulation_v2_assignment3"
   ]
  },
  "kernelspec": {
   "display_name": "Python 3",
   "language": "python",
   "name": "python3"
  },
  "language_info": {
   "codemirror_mode": {
    "name": "ipython",
    "version": 3
   },
   "file_extension": ".py",
   "mimetype": "text/x-python",
   "name": "python",
   "nbconvert_exporter": "python",
   "pygments_lexer": "ipython3",
   "version": "3.7.3"
  }
 },
 "nbformat": 4,
 "nbformat_minor": 1
}
